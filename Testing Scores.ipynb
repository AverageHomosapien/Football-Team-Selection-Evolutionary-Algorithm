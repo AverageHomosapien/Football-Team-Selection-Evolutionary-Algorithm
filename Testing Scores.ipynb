{
 "cells": [
  {
   "cell_type": "code",
   "execution_count": 1,
   "metadata": {},
   "outputs": [],
   "source": [
    "import numpy as np\n",
    "import scipy as sp\n",
    "from scipy.stats import shapiro\n",
    "from scipy.stats import ttest_ind as ttest\n",
    "import pandas as pd\n",
    "from matplotlib import pyplot as plt\n",
    "#However, on passing the shapiro-wilks, the test can state that there exists no significant departure from normality"
   ]
  },
  {
   "cell_type": "code",
   "execution_count": 8,
   "metadata": {},
   "outputs": [],
   "source": [
    "csv_file = pd.read_csv(\"EA_results.csv\")\n",
    "bin_breakdown = [1850, 1875, 1900, 1925, 1950, 1975, 2000, 2025, 2050]"
   ]
  },
  {
   "cell_type": "markdown",
   "metadata": {},
   "source": [
    "## Checking Mutation Results"
   ]
  },
  {
   "cell_type": "code",
   "execution_count": 25,
   "metadata": {},
   "outputs": [
    {
     "data": {
      "text/plain": [
       "ShapiroResult(statistic=0.9306859970092773, pvalue=0.005866832099854946)"
      ]
     },
     "execution_count": 25,
     "metadata": {},
     "output_type": "execute_result"
    }
   ],
   "source": [
    "one_n_5 = np.array(csv_file.loc[:,\"1/n (high and low 5) (orig)\"])\n",
    "mutUniformInt = np.array(csv_file.loc[:,\"mutUniformInt (-5,5,0.09)\"])\n",
    "three_n_5 = np.array(csv_file.loc[:,\"3/n (high and low 5) (orig)\"])\n",
    "one_n_10 = np.array(csv_file.loc[:,\"1/n (high and low 10)\"])\n",
    "three_n_10 = np.array(csv_file.loc[:,\"3/n (high and low 10)\"])"
   ]
  },
  {
   "cell_type": "code",
   "execution_count": 94,
   "metadata": {
    "scrolled": false
   },
   "outputs": [
    {
     "name": "stdout",
     "output_type": "stream",
     "text": [
      "ShapiroResult(statistic=0.9306859970092773, pvalue=0.005866832099854946)\n",
      "ShapiroResult(statistic=0.9401059150695801, pvalue=0.013603194616734982)\n",
      "ShapiroResult(statistic=0.9740714430809021, pvalue=0.33613458275794983)\n",
      "ShapiroResult(statistic=0.9755690693855286, pvalue=0.3835570514202118)\n",
      "ShapiroResult(statistic=0.9667924642562866, pvalue=0.17087480425834656)\n"
     ]
    }
   ],
   "source": [
    "print(shapiro(one_n_5)) # Only p value just passing is the one_n_5\n",
    "print(shapiro(mutUniformInt))\n",
    "print(shapiro(three_n_5))\n",
    "print(shapiro(one_n_10))\n",
    "print(shapiro(three_n_10))"
   ]
  },
  {
   "cell_type": "code",
   "execution_count": 118,
   "metadata": {},
   "outputs": [
    {
     "name": "stdout",
     "output_type": "stream",
     "text": [
      "Ttest_indResult(statistic=0.46859451174825645, pvalue=0.6404001571936002)\n",
      "Ttest_indResult(statistic=-6.531824401491372, pvalue=2.909445538906442e-09)\n",
      "Ttest_indResult(statistic=0.28341597159263876, pvalue=0.7774558395819089)\n",
      "Ttest_indResult(statistic=2.163602565868523, pvalue=0.032925855049598066)\n"
     ]
    }
   ],
   "source": [
    "print(ttest(three_n_5, one_n_5))\n",
    "print(ttest(mutUniformInt, one_n_5))\n",
    "print(ttest(one_n_10, one_n_5))\n",
    "print(ttest(three_n_10, one_n_5))"
   ]
  },
  {
   "cell_type": "code",
   "execution_count": 105,
   "metadata": {},
   "outputs": [
    {
     "data": {
      "text/plain": [
       "Text(0.5, 0, 'score')"
      ]
     },
     "execution_count": 105,
     "metadata": {},
     "output_type": "execute_result"
    },
    {
     "data": {
      "image/png": "[encoded data removed]",
      "text/plain": [
       "<Figure size 432x288 with 2 Axes>"
      ]
     },
     "metadata": {
      "needs_background": "light"
     },
     "output_type": "display_data"
    }
   ],
   "source": [
    "fig, axs = plt.subplots(1, 2, sharey = True)\n",
    "axs[0].set_title(\"1/ length mutation \\u00B15\")\n",
    "axs[0].hist(one_n_5, bins=bin_breakdown)\n",
    "axs[0].set_ylabel('no. of results')\n",
    "axs[0].set_xlabel('score')\n",
    "\n",
    "\n",
    "axs[1].set_title(\"3/ length mutation \\u00B15\")\n",
    "axs[1].hist(one_n_10, bins=bin_breakdown)\n",
    "axs[1].set_xlabel('score')\n",
    "#fig.savefig('saved_plots/1lenmutation_5.png')"
   ]
  },
  {
   "cell_type": "code",
   "execution_count": 106,
   "metadata": {},
   "outputs": [
    {
     "data": {
      "text/plain": [
       "Text(0.5, 0, 'score')"
      ]
     },
     "execution_count": 106,
     "metadata": {},
     "output_type": "execute_result"
    },
    {
     "data": {
      "image/png": "[encoded data removed]",
      "text/plain": [
       "<Figure size 432x288 with 2 Axes>"
      ]
     },
     "metadata": {
      "needs_background": "light"
     },
     "output_type": "display_data"
    }
   ],
   "source": [
    "fig1, axs1 = plt.subplots(1, 2, sharey = True)\n",
    "n_bins = 16\n",
    "axs1[0].set_title(\"1/ length mutation \\u00B110\")\n",
    "axs1[0].hist(one_n_10, bins=bin_breakdown)\n",
    "axs1[0].set_ylabel('no. of results')\n",
    "axs1[0].set_xlabel('score')\n",
    "\n",
    "axs1[1].set_title(\"3/ length mutation \\u00B110\")\n",
    "axs1[1].hist(three_n_10, bins=bin_breakdown)\n",
    "axs1[1].set_xlabel('score')\n",
    "#fig1.savefig('saved_plots/1lenmutation_10.png')"
   ]
  },
  {
   "cell_type": "code",
   "execution_count": 107,
   "metadata": {
    "scrolled": true
   },
   "outputs": [
    {
     "data": {
      "text/plain": [
       "Text(0.5, 0, 'score')"
      ]
     },
     "execution_count": 107,
     "metadata": {},
     "output_type": "execute_result"
    },
    {
     "data": {
      "image/png": "[encoded data removed]",
      "text/plain": [
       "<Figure size 432x288 with 2 Axes>"
      ]
     },
     "metadata": {
      "needs_background": "light"
     },
     "output_type": "display_data"
    }
   ],
   "source": [
    "fig2, axs2 = plt.subplots(1, 2, sharey = True)\n",
    "n_bins = 16\n",
    "axs2[0].set_title(\"3/ length mutation \\u00B15\")\n",
    "axs2[0].hist(three_n_5, bins=bin_breakdown)\n",
    "axs2[0].set_ylabel('no. of results')\n",
    "axs2[0].set_xlabel('score')\n",
    "\n",
    "axs2[1].set_title(\"builtin mutUniformInt \\u00B15\")\n",
    "axs2[1].hist(mutUniformInt, bins=bin_breakdown)\n",
    "axs2[1].set_xlabel('score')\n",
    "#fig2.savefig('saved_plots/mutUniformInt.png')"
   ]
  },
  {
   "cell_type": "markdown",
   "metadata": {},
   "source": [
    "## Checking Mutation Results"
   ]
  },
  {
   "cell_type": "code",
   "execution_count": 96,
   "metadata": {},
   "outputs": [],
   "source": [
    "mate_one_pt = np.array(csv_file.loc[:,\"One-Pt Crossover\"])\n",
    "mate_two_pt = np.array(csv_file.loc[:,\"Two-Pt Crossover\"])"
   ]
  },
  {
   "cell_type": "code",
   "execution_count": 113,
   "metadata": {},
   "outputs": [
    {
     "name": "stdout",
     "output_type": "stream",
     "text": [
      "ShapiroResult(statistic=0.9762121438980103, pvalue=0.40544867515563965)\n",
      "ShapiroResult(statistic=0.9799714684486389, pvalue=0.5507607460021973)\n"
     ]
    }
   ],
   "source": [
    "print(shapiro(mate_one_pt))\n",
    "print(shapiro(mate_two_pt))"
   ]
  },
  {
   "cell_type": "code",
   "execution_count": 120,
   "metadata": {},
   "outputs": [
    {
     "name": "stdout",
     "output_type": "stream",
     "text": [
      "Ttest_indResult(statistic=-3.400509916960864, pvalue=0.0009744621450606833)\n"
     ]
    }
   ],
   "source": [
    "print(ttest(mate_one_pt, mate_two_pt))"
   ]
  },
  {
   "cell_type": "code",
   "execution_count": 110,
   "metadata": {
    "scrolled": false
   },
   "outputs": [
    {
     "data": {
      "image/png": "[encoded data removed]",
      "text/plain": [
       "<Figure size 432x288 with 2 Axes>"
      ]
     },
     "metadata": {
      "needs_background": "light"
     },
     "output_type": "display_data"
    }
   ],
   "source": [
    "fig3, axs3 = plt.subplots(1, 2, sharey = True)\n",
    "mate_bin_breakdown = [1850, 1875, 1900, 1925, 1950, 1975, 2000, 2025, 2050, 2075, 2100]\n",
    "axs3[0].set_title(\"One Point Crossover\")\n",
    "axs3[0].hist(mate_one_pt, bins=mate_bin_breakdown)\n",
    "axs3[0].set_ylabel('no. of results')\n",
    "axs3[0].set_xlabel('score')\n",
    "\n",
    "\n",
    "axs3[1].set_title(\"Two Point Crossover\")\n",
    "axs3[1].hist(mate_two_pt, bins=mate_bin_breakdown)\n",
    "axs3[1].set_xlabel('score')\n",
    "fig3.savefig('saved_plots/crossover_comparison.png')"
   ]
  },
  {
   "cell_type": "markdown",
   "metadata": {},
   "source": [
    "## Checking Selection Results"
   ]
  },
  {
   "cell_type": "code",
   "execution_count": 5,
   "metadata": {},
   "outputs": [],
   "source": [
    "sel_tourn_3 = np.array(csv_file.loc[:,\"TournamentSelection3\"])\n",
    "sel_tourn_5 = np.array(csv_file.loc[:,\"TournamentSelection5\"])\n",
    "sel_tourn_6 = np.array(csv_file.loc[:,\"TournamentSelection6\"])\n",
    "sel_tourn_8 = np.array(csv_file.loc[:,\"TournamentSelection8\"])\n",
    "sel_random = np.array(csv_file.loc[:,\"RandomSelection\"])\n",
    "sel_roulette = np.array(csv_file.loc[:,\"RouletteSelection\"])\n",
    "self_ngsa2 = np.array(csv_file.loc[:,\"NSGA-II\"])"
   ]
  },
  {
   "cell_type": "code",
   "execution_count": 6,
   "metadata": {},
   "outputs": [
    {
     "name": "stdout",
     "output_type": "stream",
     "text": [
      "ShapiroResult(statistic=0.9799714684486389, pvalue=0.5507607460021973)\n",
      "ShapiroResult(statistic=0.9675092697143555, pvalue=0.18295031785964966)\n",
      "ShapiroResult(statistic=0.9884324669837952, pvalue=0.9029091000556946)\n",
      "ShapiroResult(statistic=0.9022234082221985, pvalue=0.0005694396677426994)\n",
      "ShapiroResult(statistic=0.9812524318695068, pvalue=0.6058562397956848)\n",
      "ShapiroResult(statistic=0.9903050661087036, pvalue=0.9530256986618042)\n",
      "ShapiroResult(statistic=0.9630441069602966, pvalue=0.11923953145742416)\n"
     ]
    }
   ],
   "source": [
    "print(shapiro(sel_tourn_3)) # Only p value just passing is the one_n_5\n",
    "print(shapiro(sel_tourn_5))\n",
    "print(shapiro(sel_tourn_6))\n",
    "print(shapiro(sel_tourn_8))\n",
    "print(shapiro(sel_random))\n",
    "print(shapiro(sel_roulette))\n",
    "print(shapiro(self_ngsa2))"
   ]
  },
  {
   "cell_type": "code",
   "execution_count": 7,
   "metadata": {},
   "outputs": [
    {
     "name": "stdout",
     "output_type": "stream",
     "text": [
      "Ttest_indResult(statistic=-0.8860791806499667, pvalue=0.37774401898249166)\n",
      "Ttest_indResult(statistic=-1.5503366722291638, pvalue=0.12428423330327056)\n",
      "Ttest_indResult(statistic=-2.534615431161002, pvalue=0.012840292411044028)\n",
      "Ttest_indResult(statistic=-7.811009450658134, pvalue=6.40524674864971e-12)\n",
      "Ttest_indResult(statistic=-23.331897632771312, pvalue=8.486713601965432e-42)\n",
      "Ttest_indResult(statistic=-31.870739006647746, pvalue=1.5936604656617726e-53)\n"
     ]
    }
   ],
   "source": [
    "print(ttest(sel_tourn_5, sel_tourn_3))\n",
    "print(ttest(sel_tourn_6, sel_tourn_3))\n",
    "print(ttest(sel_tourn_8, sel_tourn_3))\n",
    "print(ttest(sel_roulette, sel_tourn_3))\n",
    "print(ttest(self_ngsa2, sel_tourn_3))\n",
    "print(ttest(sel_random, sel_tourn_3))"
   ]
  },
  {
   "cell_type": "code",
   "execution_count": 3,
   "metadata": {},
   "outputs": [],
   "source": [
    "final_100_tourn3 = np.array(csv_file.loc[:,\"100_Tourn3\"])\n",
    "final_100_tourn6 = np.array(csv_file.loc[:,\"100_Tourn6\"])"
   ]
  },
  {
   "cell_type": "code",
   "execution_count": 4,
   "metadata": {},
   "outputs": [
    {
     "name": "stdout",
     "output_type": "stream",
     "text": [
      "ShapiroResult(statistic=0.9927705526351929, pvalue=0.8738389611244202)\n",
      "ShapiroResult(statistic=0.9860488772392273, pvalue=0.3768998384475708)\n"
     ]
    }
   ],
   "source": [
    "print(shapiro(final_100_tourn3)) # Only p value just passing is the one_n_5\n",
    "print(shapiro(final_100_tourn6))"
   ]
  },
  {
   "cell_type": "code",
   "execution_count": 6,
   "metadata": {},
   "outputs": [
    {
     "name": "stdout",
     "output_type": "stream",
     "text": [
      "Ttest_indResult(statistic=-2.9974123775730113, pvalue=0.0030714591019818426)\n"
     ]
    }
   ],
   "source": [
    "print(ttest(final_100_tourn6, final_100_tourn3))"
   ]
  },
  {
   "cell_type": "code",
   "execution_count": 19,
   "metadata": {},
   "outputs": [],
   "source": [
    "final_bin_breakdown = [1850, 1900, 1950, 2000, 2050, 2100, 2150]\n",
    "final_y_bins = [0, 10, 20, 30, 40, 50]"
   ]
  },
  {
   "cell_type": "code",
   "execution_count": 22,
   "metadata": {},
   "outputs": [
    {
     "data": {
      "text/plain": [
       "Text(0.5, 0, 'score')"
      ]
     },
     "execution_count": 22,
     "metadata": {},
     "output_type": "execute_result"
    },
    {
     "data": {
      "image/png": "[encoded data removed]",
      "text/plain": [
       "<Figure size 432x288 with 2 Axes>"
      ]
     },
     "metadata": {
      "needs_background": "light"
     },
     "output_type": "display_data"
    }
   ],
   "source": [
    "fig_final, axs_final = plt.subplots(1, 2, sharey = True)\n",
    "axs_final[0].set_title(\"Tournament (size = 3)\")\n",
    "axs_final[0].hist(final_100_tourn3, bins=final_bin_breakdown)\n",
    "axs_final[0].set_ylabel('no. of results')\n",
    "axs_final[0].set_xlabel('score')\n",
    "\n",
    "axs_final[1].set_title(\"Tournament (size = 6)\")\n",
    "axs_final[1].hist(final_100_tourn6, bins=final_bin_breakdown)\n",
    "axs_final[1].set_xlabel('score')\n",
    "#fig_final.savefig('saved_plots/tourn3vs6.png')"
   ]
  },
  {
   "cell_type": "code",
   "execution_count": null,
   "metadata": {},
   "outputs": [],
   "source": []
  }
 ],
 "metadata": {
  "kernelspec": {
   "display_name": "Python 3",
   "language": "python",
   "name": "python3"
  },
  "language_info": {
   "codemirror_mode": {
    "name": "ipython",
    "version": 3
   },
   "file_extension": ".py",
   "mimetype": "text/x-python",
   "name": "python",
   "nbconvert_exporter": "python",
   "pygments_lexer": "ipython3",
   "version": "3.7.9"
  }
 },
 "nbformat": 4,
 "nbformat_minor": 4
}
